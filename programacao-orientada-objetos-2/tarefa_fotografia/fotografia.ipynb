{
 "cells": [
  {
   "cell_type": "code",
   "execution_count": 1,
   "metadata": {},
   "outputs": [],
   "source": [
    "from skimage.io import imread\n",
    "import datetime as dt\n",
    "from matplotlib.pyplot import imshow\n",
    "\n",
    "class Pessoa:\n",
    "\n",
    "    __slots__ = ['_nome', '_cpf', '_addres', '_telefone']\n",
    "\n",
    "    def __init__(self, nome,  cpf, endereco, tel):\n",
    "        self._nome = nome\n",
    "        self._cpf = cpf\n",
    "        self._addres = endereco\n",
    "        self._telefone = tel\n",
    "\n",
    "    @property\n",
    "    def nome(self):\n",
    "        return self._nome\n",
    "\n",
    "    @nome.setter\n",
    "    def nome(self, nome):\n",
    "        self._nome = nome    \n",
    "\n",
    "    @property\n",
    "    def cpf(self):\n",
    "        return self._cpf\n",
    "\n",
    "    @cpf.setter\n",
    "    def cpf(self, cpf):\n",
    "        self._cpf = cpf    \n",
    "\n",
    "    @property\n",
    "    def addres(self):\n",
    "        return self._addres\n",
    "\n",
    "    @addres.setter\n",
    "    def addres(self, addres):\n",
    "        self._addres = addres    \n",
    "\n",
    "    @property\n",
    "    def telefone(self):\n",
    "        return self._telefone\n",
    "\n",
    "    @telefone.setter\n",
    "    def telefone(self, tel):\n",
    "        self._telefone = tel\n",
    "\n",
    "    def imprimir(self):\n",
    "        print('Nome: {}'.format(self.nome))\n",
    "        print('CPF: {} '.format(self.cpf))\n",
    "        print('Endereço: {}'.format(self._addres))\n",
    "        print('Telefone: {} '.format(self.telefone))\n",
    "\n",
    "class Fotografia:\n",
    "\n",
    "    _qtd_fotos = 0\n",
    "    __slots__ = ['_foto', '_fotografo', '_proprietario', 'data']\n",
    "\n",
    "    def __init__(self, foto, fotografo, proprietario):\n",
    "        self._foto = imread(foto)\n",
    "        self._fotografo = fotografo\n",
    "        self._proprietario = proprietario\n",
    "        self.data = dt.date.today()\n",
    "        Fotografia._qtd_fotos += 1\n",
    "\n",
    "    @property\n",
    "    def foto(self):\n",
    "        return self._foto\n",
    "\n",
    "    @foto.setter\n",
    "    def foto(self, novafoto):\n",
    "        self._foto = imread(novafoto)    \n",
    "\n",
    "    @property\n",
    "    def fotografo(self):\n",
    "        return self._fotografo\n",
    "\n",
    "    @fotografo.setter\n",
    "    def fotografo(self, fotografo):\n",
    "        self._fotografo = fotografo    \n",
    "\n",
    "    @property\n",
    "    def proprietario(self):\n",
    "        return self._proprietario\n",
    "   \n",
    "    @proprietario.setter\n",
    "    def proprietario(self, prop):\n",
    "        self.foto.setter = prop\n",
    "        \n",
    "    @staticmethod\n",
    "    def get_qtd_fotos():\n",
    "        return Fotografia._qtd_fotos\n",
    "\n",
    "    def mostrar_fotografia(self):\n",
    "        imshow(self._foto)\n",
    "\n",
    "    def prop_foto(self):\n",
    "        print('Tamanho: ', self.foto.shape)\n",
    "        self.fotografo.imprimir()\n",
    "        print('Data: ', str(self.data))\n"
   ]
  },
  {
   "cell_type": "code",
   "execution_count": 2,
   "metadata": {},
   "outputs": [],
   "source": [
    "pessoa1 = Pessoa('David', '888', 'Casa1', '89999')\n",
    "pessoa2 = Pessoa('Natan', '321', 'Casa2', '86999')"
   ]
  },
  {
   "cell_type": "code",
   "execution_count": 3,
   "metadata": {},
   "outputs": [],
   "source": [
    "fotografia = Fotografia('flower.jpg', pessoa1, pessoa2)"
   ]
  },
  {
   "cell_type": "code",
   "execution_count": null,
   "metadata": {},
   "outputs": [],
   "source": [
    "fotografia.mostrar_fotografia()\n"
   ]
  },
  {
   "cell_type": "code",
   "execution_count": null,
   "metadata": {},
   "outputs": [],
   "source": []
  }
 ],
 "metadata": {
  "kernelspec": {
   "display_name": "Python 3",
   "language": "python",
   "name": "python3"
  },
  "language_info": {
   "codemirror_mode": {
    "name": "ipython",
    "version": 3
   },
   "file_extension": ".py",
   "mimetype": "text/x-python",
   "name": "python",
   "nbconvert_exporter": "python",
   "pygments_lexer": "ipython3",
   "version": "3.11.1"
  },
  "orig_nbformat": 4,
  "vscode": {
   "interpreter": {
    "hash": "a049626e04d7a6ec8aff67d0956cead3fb929bb76c1445020cfbf958cfcf39ea"
   }
  }
 },
 "nbformat": 4,
 "nbformat_minor": 2
}
